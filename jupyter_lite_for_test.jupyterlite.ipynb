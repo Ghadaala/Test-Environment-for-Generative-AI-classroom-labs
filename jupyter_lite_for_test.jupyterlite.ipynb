{
  "metadata": {
    "kernelspec": {
      "name": "python",
      "display_name": "Python (Pyodide)",
      "language": "python"
    },
    "language_info": {
      "codemirror_mode": {
        "name": "python",
        "version": 3
      },
      "file_extension": ".py",
      "mimetype": "text/x-python",
      "name": "python",
      "nbconvert_exporter": "python",
      "pygments_lexer": "ipython3",
      "version": "3.8"
    }
  },
  "nbformat_minor": 4,
  "nbformat": 4,
  "cells": [
    {
      "cell_type": "markdown",
      "source": "<p style=\"text-align:center\">\n    <a href=\"https://skills.network\" target=\"_blank\">\n    <img src=\"https://cf-courses-data.s3.us.cloud-object-storage.appdomain.cloud/assets/logos/SN_web_lightmode.png\" width=\"300\" alt=\"Skills Network Logo\">\n    </a>\n</p>\n",
      "metadata": {}
    },
    {
      "cell_type": "markdown",
      "source": "# Test Environment for Generative AI classroom labs\n\nThis lab provides a test environment for the codes generated using the Generative AI classroom.\n\nFollow the instructions below to set up this environment for further use.\n",
      "metadata": {}
    },
    {
      "cell_type": "markdown",
      "source": "# Setup\n",
      "metadata": {}
    },
    {
      "cell_type": "markdown",
      "source": "### Install required libraries\n\nIn case of a requirement of installing certain python libraries for use in your task, you may do so as shown below.\n",
      "metadata": {}
    },
    {
      "cell_type": "code",
      "source": "%pip install seaborn\nimport piplite\n\nawait piplite.install(['nbformat', 'plotly'])",
      "metadata": {
        "trusted": true
      },
      "outputs": [],
      "execution_count": 1
    },
    {
      "cell_type": "markdown",
      "source": "### Dataset URL from the GenAI lab\nUse the URL provided in the GenAI lab in the cell below. \n",
      "metadata": {}
    },
    {
      "cell_type": "code",
      "source": "URL = \"https://cf-courses-data.s3.us.cloud-object-storage.appdomain.cloud/IBMDeveloperSkillsNetwork-DA0101EN-Coursera/laptop_pricing_dataset_mod1.csv\"",
      "metadata": {
        "trusted": true
      },
      "outputs": [],
      "execution_count": 2
    },
    {
      "cell_type": "markdown",
      "source": "### Downloading the dataset\n\nExecute the following code to download the dataset in to the interface.\n\n> Please note that this step is essential in JupyterLite. If you are using a downloaded version of this notebook and running it on JupyterLabs, then you can skip this step and directly use the URL in pandas.read_csv() function to read the dataset as a dataframe\n",
      "metadata": {}
    },
    {
      "cell_type": "code",
      "source": "from pyodide.http import pyfetch\n\nasync def download(url, filename):\n    response = await pyfetch(url)\n    if response.status == 200:\n        with open(filename, \"wb\") as f:\n            f.write(await response.bytes())\n\npath = URL\n\nawait download(path, \"dataset.csv\")",
      "metadata": {
        "trusted": true
      },
      "outputs": [],
      "execution_count": 3
    },
    {
      "cell_type": "markdown",
      "source": "---\n",
      "metadata": {}
    },
    {
      "cell_type": "markdown",
      "source": "# Test Environment\n",
      "metadata": {}
    },
    {
      "cell_type": "code",
      "source": "# Keep appending the code generated to this cell, or add more cells below this to execute in parts\nfrom pyodide.http import pyfetch\nimport pandas as pd\n\n# Define the URL for the dataset\nURL = \"https://cf-courses-data.s3.us.cloud-object-storage.appdomain.cloud/IBMDeveloperSkillsNetwork-DA0101EN-Coursera/laptop_pricing_dataset_mod1.csv\"\n\n# Async function to download the file\nasync def download(url, filename):\n    response = await pyfetch(url)\n    if response.status == 200:\n        with open(filename, \"wb\") as f:\n            f.write(await response.bytes())\n\n# Function to read a CSV file into a DataFrame\ndef read_csv_file(file_path):\n    df = pd.read_csv(file_path)\n    return df\n\n# Running the async function in a notebook\nasync def main():\n    local_file = \"dataset.csv\"\n    await download(URL, local_file)  # Download the file\n    data_frame = read_csv_file(local_file)  # Read the CSV\n    print(data_frame)\n\n# Run the main function directly in the notebook\nawait main()\n\n",
      "metadata": {
        "trusted": true
      },
      "outputs": [
        {
          "name": "stdout",
          "text": "     Unnamed: 0 Manufacturer  Category     Screen  GPU  OS  CPU_core  \\\n0             0         Acer         4  IPS Panel    2   1         5   \n1             1         Dell         3    Full HD    1   1         3   \n2             2         Dell         3    Full HD    1   1         7   \n3             3         Dell         4  IPS Panel    2   1         5   \n4             4           HP         4    Full HD    2   1         7   \n..          ...          ...       ...        ...  ...  ..       ...   \n233         233       Lenovo         4  IPS Panel    2   1         7   \n234         234      Toshiba         3    Full HD    2   1         5   \n235         235       Lenovo         4  IPS Panel    2   1         5   \n236         236       Lenovo         3    Full HD    3   1         5   \n237         237      Toshiba         3    Full HD    2   1         5   \n\n     Screen_Size_cm  CPU_frequency  RAM_GB  Storage_GB_SSD  Weight_kg  Price  \n0            35.560            1.6       8             256       1.60    978  \n1            39.624            2.0       4             256       2.20    634  \n2            39.624            2.7       8             256       2.20    946  \n3            33.782            1.6       8             128       1.22   1244  \n4            39.624            1.8       8             256       1.91    837  \n..              ...            ...     ...             ...        ...    ...  \n233          35.560            2.6       8             256       1.70   1891  \n234          33.782            2.4       8             256       1.20   1950  \n235          30.480            2.6       8             256       1.36   2236  \n236          39.624            2.5       6             256       2.40    883  \n237          35.560            2.3       8             256       1.95   1499  \n\n[238 rows x 13 columns]\n",
          "output_type": "stream"
        }
      ],
      "execution_count": 7
    },
    {
      "cell_type": "code",
      "source": "from pyodide.http import pyfetch\nimport pandas as pd\n\n# Define the URL for the dataset\nURL = \"https://cf-courses-data.s3.us.cloud-object-storage.appdomain.cloud/IBMDeveloperSkillsNetwork-DA0101EN-Coursera/laptop_pricing_dataset_mod1.csv\"\n\n# Async function to download the file\nasync def download(url, filename):\n    response = await pyfetch(url)\n    if response.status == 200:\n        with open(filename, \"wb\") as f:\n            f.write(await response.bytes())\n\n# Function to read a CSV file into a DataFrame\ndef read_csv_file(file_path):\n    df = pd.read_csv(file_path)\n    return df\n\n# Function to identify columns with missing values\ndef identify_missing_values(data_frame):\n    missing_values = data_frame.isnull().sum()  # Count missing values per column\n    columns_with_missing_values = missing_values[missing_values > 0].index.tolist()  # Filter columns with missing values\n    return columns_with_missing_values\n\n# Running everything\nasync def main():\n    local_file = \"dataset.csv\"\n    await download(URL, local_file)  # Download the dataset\n    data_frame = read_csv_file(local_file)  # Load the dataset into a DataFrame\n    print(data_frame.head())  # Print the first few rows to verify the DataFrame\n\n    # Check for missing values\n    columns_with_missing_values = identify_missing_values(data_frame)\n    print(\"Columns with missing values:\", columns_with_missing_values)\n\n# Run the main function directly in a notebook\nawait main()\n",
      "metadata": {
        "trusted": true,
        "scrolled": true
      },
      "outputs": [
        {
          "name": "stdout",
          "text": "   Unnamed: 0 Manufacturer  Category     Screen  GPU  OS  CPU_core  \\\n0           0         Acer         4  IPS Panel    2   1         5   \n1           1         Dell         3    Full HD    1   1         3   \n2           2         Dell         3    Full HD    1   1         7   \n3           3         Dell         4  IPS Panel    2   1         5   \n4           4           HP         4    Full HD    2   1         7   \n\n   Screen_Size_cm  CPU_frequency  RAM_GB  Storage_GB_SSD  Weight_kg  Price  \n0          35.560            1.6       8             256       1.60    978  \n1          39.624            2.0       4             256       2.20    634  \n2          39.624            2.7       8             256       2.20    946  \n3          33.782            1.6       8             128       1.22   1244  \n4          39.624            1.8       8             256       1.91    837  \nColumns with missing values: ['Screen_Size_cm', 'Weight_kg']\n",
          "output_type": "stream"
        }
      ],
      "execution_count": 10
    },
    {
      "cell_type": "code",
      "source": "import pandas as pd\n\n# Example DataFrame\ndata = {\n    'Screen_Size_cm': [15.6, None, 13.3, 15.6, 14.0, None],\n    'Weight_kg': [1.5, 1.8, None, 2.1, None, 1.7]\n}\ndata_frame = pd.DataFrame(data)\n\n# Function to replace missing values\ndef replace_missing_values(data_frame):\n    if 'Screen_Size_cm' in data_frame.columns:\n        most_frequent_screen_size = data_frame['Screen_Size_cm'].mode()[0]\n        data_frame['Screen_Size_cm'].fillna(most_frequent_screen_size, inplace=True)\n    if 'Weight_kg' in data_frame.columns:\n        mean_weight = data_frame['Weight_kg'].mean()\n        data_frame['Weight_kg'].fillna(mean_weight, inplace=True)\n    return data_frame\n\n# Replace missing values in the DataFrame\ndata_frame = replace_missing_values(data_frame)\nprint(data_frame)\n\n",
      "metadata": {
        "trusted": true
      },
      "outputs": [
        {
          "name": "stderr",
          "text": "<ipython-input-13-bcb3641b26d6>:14: FutureWarning: A value is trying to be set on a copy of a DataFrame or Series through chained assignment using an inplace method.\nThe behavior will change in pandas 3.0. This inplace method will never work because the intermediate object on which we are setting values always behaves as a copy.\n\nFor example, when doing 'df[col].method(value, inplace=True)', try using 'df.method({col: value}, inplace=True)' or df[col] = df[col].method(value) instead, to perform the operation inplace on the original object.\n\n\n  data_frame['Screen_Size_cm'].fillna(most_frequent_screen_size, inplace=True)\n<ipython-input-13-bcb3641b26d6>:17: FutureWarning: A value is trying to be set on a copy of a DataFrame or Series through chained assignment using an inplace method.\nThe behavior will change in pandas 3.0. This inplace method will never work because the intermediate object on which we are setting values always behaves as a copy.\n\nFor example, when doing 'df[col].method(value, inplace=True)', try using 'df.method({col: value}, inplace=True)' or df[col] = df[col].method(value) instead, to perform the operation inplace on the original object.\n\n\n  data_frame['Weight_kg'].fillna(mean_weight, inplace=True)\n",
          "output_type": "stream"
        },
        {
          "name": "stdout",
          "text": "   Screen_Size_cm  Weight_kg\n0            15.6      1.500\n1            15.6      1.800\n2            13.3      1.775\n3            15.6      2.100\n4            14.0      1.775\n5            15.6      1.700\n",
          "output_type": "stream"
        }
      ],
      "execution_count": 13
    },
    {
      "cell_type": "code",
      "source": "import pandas as pd\n\n# Assuming 'data_frame' is the Pandas data frame you want to change the data types in\ndata_frame['Screen_Size_cm'] = data_frame['Screen_Size_cm'].astype(float)\ndata_frame['Weight_kg'] = data_frame['Weight_kg'].astype(float)\n\nprint(data_frame.dtypes)",
      "metadata": {
        "trusted": true
      },
      "outputs": [
        {
          "name": "stdout",
          "text": "Screen_Size_cm    float64\nWeight_kg         float64\ndtype: object\n",
          "output_type": "stream"
        }
      ],
      "execution_count": 14
    },
    {
      "cell_type": "code",
      "source": "import pandas as pd\n\n# Assuming 'data_frame' is the Pandas data frame you want to modify\ndata_frame['Screen_Size_inch'] = data_frame['Screen_Size_cm'] * 0.393701 # Convert cm to inches\ndata_frame['Weight_pounds'] = data_frame['Weight_kg'] * 2.20462 # Convert kg to pounds\n\n# Drop the original columns\ndata_frame.drop(['Screen_Size_cm', 'Weight_kg'], axis=1, inplace=True)\n\nprint(data_frame)",
      "metadata": {
        "trusted": true
      },
      "outputs": [
        {
          "name": "stdout",
          "text": "   Screen_Size_inch  Weight_pounds\n0          6.141736       3.306930\n1          6.141736       3.968316\n2          5.236223       3.913200\n3          6.141736       4.629702\n4          5.511814       3.913200\n5          6.141736       3.747854\n",
          "output_type": "stream"
        }
      ],
      "execution_count": 15
    },
    {
      "cell_type": "code",
      "source": "import pandas as pd\n\n# Example DataFrame\ndata = {'CPU_frequency': [2.5, 3.0, 1.8, 2.2]}\ndata_frame = pd.DataFrame(data)\n\n# Normalizing the CPU_frequency column\nmax_cpu_frequency = data_frame['CPU_frequency'].max()\nif max_cpu_frequency > 0:\n    data_frame['CPU_frequency'] = data_frame['CPU_frequency'] / max_cpu_frequency\nelse:\n    print(\"Cannot normalize: Maximum CPU frequency is zero.\")\n\nprint(data_frame)\n",
      "metadata": {
        "trusted": true
      },
      "outputs": [
        {
          "name": "stdout",
          "text": "   CPU_frequency\n0       0.833333\n1       1.000000\n2       0.600000\n3       0.733333\n",
          "output_type": "stream"
        }
      ],
      "execution_count": 18
    },
    {
      "cell_type": "code",
      "source": "import pandas as pd\n\n# Create a sample DataFrame with a 'Screen' column\ndata = {'Screen': ['Small', 'Large', 'Medium', 'Small']}\ndata_frame = pd.DataFrame(data)\n\n# One-hot encode 'Screen' column\nif 'Screen' in data_frame.columns:\n    df1 = pd.get_dummies(data_frame['Screen'], prefix='Screen')\n    data_frame = pd.concat([data_frame, df1], axis=1)\n    data_frame.drop('Screen', axis=1, inplace=True)\n    print(data_frame)\nelse:\n    print(\"Column 'Screen' does not exist in the DataFrame.\")\n\n",
      "metadata": {
        "trusted": true
      },
      "outputs": [
        {
          "name": "stdout",
          "text": "   Screen_Large  Screen_Medium  Screen_Small\n0         False          False          True\n1          True          False         False\n2         False           True         False\n3         False          False          True\n",
          "output_type": "stream"
        }
      ],
      "execution_count": 21
    },
    {
      "cell_type": "code",
      "source": "import pandas as pd\n\n# Sample DataFrame\ndata = {'Product': ['A', 'B', 'C', 'D'],\n        'Price': [100, 150, 200, 250]}\ndf = pd.DataFrame(data)\n\n# Convert USD to Euros\nexchange_rate = 0.85\ndf['Price'] = df['Price'] * exchange_rate\n\nprint(df)",
      "metadata": {
        "trusted": true
      },
      "outputs": [
        {
          "name": "stdout",
          "text": "  Product  Price\n0       A   85.0\n1       B  127.5\n2       C  170.0\n3       D  212.5\n",
          "output_type": "stream"
        }
      ],
      "execution_count": 22
    },
    {
      "cell_type": "code",
      "source": "import pandas as pd\n\n# Sample DataFrame\ndata = {'CPU_frequency': [2.0, 3.5, 2.8, 4.0]}\ndf = pd.DataFrame(data)\n\n# Min-Max Normalization\ndf['Normalized_CPU_frequency'] = (df['CPU_frequency'] - df['CPU_frequency'].min()) / (df['CPU_frequency'].max() - df['CPU_frequency'].min())\n\nprint(df)",
      "metadata": {
        "trusted": true
      },
      "outputs": [
        {
          "name": "stdout",
          "text": "   CPU_frequency  Normalized_CPU_frequency\n0            2.0                      0.00\n1            3.5                      0.75\n2            2.8                      0.40\n3            4.0                      1.00\n",
          "output_type": "stream"
        }
      ],
      "execution_count": 23
    },
    {
      "cell_type": "markdown",
      "source": "## Authors\n",
      "metadata": {
        "jp-MarkdownHeadingCollapsed": true
      }
    },
    {
      "cell_type": "code",
      "source": "",
      "metadata": {
        "trusted": true
      },
      "outputs": [],
      "execution_count": null
    },
    {
      "cell_type": "markdown",
      "source": "[Abhishek Gagneja](https://www.linkedin.com/in/abhishek-gagneja-23051987/)\n",
      "metadata": {}
    },
    {
      "cell_type": "markdown",
      "source": "## Change Log\n",
      "metadata": {}
    },
    {
      "cell_type": "markdown",
      "source": "|Date (YYYY-MM-DD)|Version|Changed By|Change Description|\n|-|-|-|-|\n|2023-12-10|0.1|Abhishek Gagneja|Initial Draft created|\n",
      "metadata": {}
    },
    {
      "cell_type": "markdown",
      "source": "Copyright © 2023 IBM Corporation. All rights reserved.\n",
      "metadata": {}
    }
  ]
}