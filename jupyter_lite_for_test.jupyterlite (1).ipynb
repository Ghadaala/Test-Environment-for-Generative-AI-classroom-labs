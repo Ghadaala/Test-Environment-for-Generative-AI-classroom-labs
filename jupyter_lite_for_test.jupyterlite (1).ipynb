{
  "metadata": {
    "kernelspec": {
      "name": "python",
      "display_name": "Python (Pyodide)",
      "language": "python"
    },
    "language_info": {
      "codemirror_mode": {
        "name": "python",
        "version": 3
      },
      "file_extension": ".py",
      "mimetype": "text/x-python",
      "name": "python",
      "nbconvert_exporter": "python",
      "pygments_lexer": "ipython3",
      "version": "3.8"
    }
  },
  "nbformat_minor": 4,
  "nbformat": 4,
  "cells": [
    {
      "cell_type": "markdown",
      "source": "<p style=\"text-align:center\">\n    <a href=\"https://skills.network\" target=\"_blank\">\n    <img src=\"https://cf-courses-data.s3.us.cloud-object-storage.appdomain.cloud/assets/logos/SN_web_lightmode.png\" width=\"300\" alt=\"Skills Network Logo\">\n    </a>\n</p>\n",
      "metadata": {}
    },
    {
      "cell_type": "markdown",
      "source": "# Test Environment for Generative AI classroom labs\n\nThis lab provides a test environment for the codes generated using the Generative AI classroom.\n\nFollow the instructions below to set up this environment for further use.\n",
      "metadata": {}
    },
    {
      "cell_type": "markdown",
      "source": "# Setup\n",
      "metadata": {}
    },
    {
      "cell_type": "markdown",
      "source": "### Install required libraries\n\nIn case of a requirement of installing certain python libraries for use in your task, you may do so as shown below.\n",
      "metadata": {}
    },
    {
      "cell_type": "code",
      "source": "# Install required libraries\n%pip install seaborn plotly\n\n# Import libraries (use as needed in your project)\nimport seaborn as sns\nimport plotly.express as px\n",
      "metadata": {
        "trusted": true
      },
      "outputs": [],
      "execution_count": 1
    },
    {
      "cell_type": "markdown",
      "source": "### Dataset URL from the GenAI lab\nUse the URL provided in the GenAI lab in the cell below. \n",
      "metadata": {}
    },
    {
      "cell_type": "code",
      "source": "URL = \"https://cf-courses-data.s3.us.cloud-object-storage.appdomain.cloud/IBMSkillsNetwork-AI0271EN-SkillsNetwork/labs/v1/m3/data/used_car_price_analysis.csv\"\n",
      "metadata": {
        "trusted": true
      },
      "outputs": [],
      "execution_count": 2
    },
    {
      "cell_type": "markdown",
      "source": "### Downloading the dataset\n\nExecute the following code to download the dataset in to the interface.\n\n> Please note that this step is essential in JupyterLite. If you are using a downloaded version of this notebook and running it on JupyterLabs, then you can skip this step and directly use the URL in pandas.read_csv() function to read the dataset as a dataframe\n",
      "metadata": {}
    },
    {
      "cell_type": "code",
      "source": "import pandas as pd\nimport requests\nfrom io import StringIO\n\n# URL of the dataset\nURL = \"https://cf-courses-data.s3.us.cloud-object-storage.appdomain.cloud/IBMSkillsNetwork-AI0271EN-SkillsNetwork/labs/v1/m3/data/used_car_price_analysis.csv\"\n\n# Fetch the dataset\nresponse = requests.get(URL)\nif response.status_code == 200:\n    csv_data = StringIO(response.text)\n    df = pd.read_csv(csv_data)\n    print(df.head())\nelse:\n    print(f\"Failed to fetch dataset. Status code: {response.status_code}\")\n\n\n",
      "metadata": {
        "trusted": true
      },
      "outputs": [
        {
          "name": "stdout",
          "text": "     model  year transmission  mileage fuelType    tax   mpg  engineSize  \\\n0   Fiesta  2017    Automatic    15944   Petrol  150.0  57.7         1.0   \n1    Focus  2018       Manual     9083   Petrol  150.0  57.7         1.0   \n2    Focus  2017       Manual    12456   Petrol  150.0  57.7         1.0   \n3   Fiesta  2019       Manual    10460   Petrol  145.0  40.3         1.5   \n4   Fiesta  2019    Automatic     1482   Petrol  145.0  48.7         1.0   \n\n   price  \n0  12000  \n1  14000  \n2  13000  \n3  17500  \n4  16500  \n",
          "output_type": "stream"
        }
      ],
      "execution_count": 4
    },
    {
      "cell_type": "markdown",
      "source": "---\n",
      "metadata": {}
    },
    {
      "cell_type": "markdown",
      "source": "# Test Environment\n",
      "metadata": {}
    },
    {
      "cell_type": "code",
      "source": "from pyodide.http import pyfetch\nimport pandas as pd\n\n# Define the URL for the car dataset\nURL = \"https://cf-courses-data.s3.us.cloud-object-storage.appdomain.cloud/IBMSkillsNetwork-AI0271EN-SkillsNetwork/labs/v1/m3/data/used_car_price_analysis.csv\"\n\n# Async function to download the file\nasync def download(url, filename):\n    response = await pyfetch(url)\n    if response.status == 200:\n        with open(filename, \"wb\") as f:\n            f.write(await response.bytes())\n    else:\n        print(f\"Failed to download the file. Status code: {response.status}\")\n\n# Function to read a CSV file into a DataFrame\ndef read_csv_file(file_path):\n    try:\n        df = pd.read_csv(file_path)\n        return df\n    except Exception as e:\n        print(f\"Error reading the file: {e}\")\n        return None\n\n# Running the async function in a notebook\nasync def main():\n    local_file = \"dataset.csv\"\n    await download(URL, local_file)  # Download the file\n    data_frame = read_csv_file(local_file)  # Read the CSV\n    if data_frame is not None:\n        print(data_frame.head())  # Print the first 5 rows of the DataFrame\n\n# Run the main function\nawait main()\n\n",
      "metadata": {
        "trusted": true
      },
      "outputs": [
        {
          "name": "stdout",
          "text": "     model  year transmission  mileage fuelType    tax   mpg  engineSize  \\\n0   Fiesta  2017    Automatic    15944   Petrol  150.0  57.7         1.0   \n1    Focus  2018       Manual     9083   Petrol  150.0  57.7         1.0   \n2    Focus  2017       Manual    12456   Petrol  150.0  57.7         1.0   \n3   Fiesta  2019       Manual    10460   Petrol  145.0  40.3         1.5   \n4   Fiesta  2019    Automatic     1482   Petrol  145.0  48.7         1.0   \n\n   price  \n0  12000  \n1  14000  \n2  13000  \n3  17500  \n4  16500  \n",
          "output_type": "stream"
        }
      ],
      "execution_count": 5
    },
    {
      "cell_type": "code",
      "source": "from pyodide.http import pyfetch\nimport pandas as pd\n\n# Define the URL for the dataset\nURL = \"https://cf-courses-data.s3.us.cloud-object-storage.appdomain.cloud/IBMDeveloperSkillsNetwork-DA0101EN-Coursera/laptop_pricing_dataset_mod1.csv\"\n\n# Async function to download the file\nasync def download(url, filename):\n    response = await pyfetch(url)\n    if response.status == 200:\n        with open(filename, \"wb\") as f:\n            f.write(await response.bytes())\n\n# Function to read a CSV file into a DataFrame\ndef read_csv_file(file_path):\n    df = pd.read_csv(file_path)\n    return df\n\n# Function to identify columns with missing values\ndef identify_missing_values(data_frame):\n    missing_values = data_frame.isnull().sum()  # Count missing values per column\n    columns_with_missing_values = missing_values[missing_values > 0].index.tolist()  # Filter columns with missing values\n    return columns_with_missing_values\n\n# Running everything\nasync def main():\n    local_file = \"dataset.csv\"\n    await download(URL, local_file)  # Download the dataset\n    data_frame = read_csv_file(local_file)  # Load the dataset into a DataFrame\n    print(data_frame.head())  # Print the first few rows to verify the DataFrame\n\n    # Check for missing values\n    columns_with_missing_values = identify_missing_values(data_frame)\n    print(\"Columns with missing values:\", columns_with_missing_values)\n\n# Run the main function directly in a notebook\nawait main()\n",
      "metadata": {
        "trusted": true,
        "scrolled": true
      },
      "outputs": [
        {
          "name": "stdout",
          "text": "  Unnamed: 0 Manufacturer Category     Screen GPU   OS  CPU_core  \\\n0          0         Acer        4  IPS Panel   2  1.0       5.0   \n1          1         Dell        3    Full HD   1  1.0       3.0   \n2          2         Dell        3    Full HD   1  1.0       7.0   \n3          3         Dell        4  IPS Panel   2  1.0       5.0   \n4          4           HP        4    Full HD   2  1.0       7.0   \n\n   Screen_Size_cm  CPU_frequency  RAM_GB  Storage_GB_SSD  Weight_kg   Price  \n0          35.560            1.6     8.0           256.0       1.60   978.0  \n1          39.624            2.0     4.0           256.0       2.20   634.0  \n2          39.624            2.7     8.0           256.0       2.20   946.0  \n3          33.782            1.6     8.0           128.0       1.22  1244.0  \n4          39.624            1.8     8.0           256.0       1.91   837.0  \nColumns with missing values: ['Unnamed: 0', 'Screen', 'GPU', 'OS', 'CPU_core', 'Screen_Size_cm', 'CPU_frequency', 'RAM_GB', 'Storage_GB_SSD', 'Weight_kg', 'Price']\n",
          "output_type": "stream"
        }
      ],
      "execution_count": 8
    },
    {
      "cell_type": "code",
      "source": "import pandas as pd\n\n# Create a sample data frame\ndata = {'A': [1, 2, None, 4, 5],\n        'B': [None, 2, 3, 4, 5],\n        'C': [1, 2, 3, 4, 5]}\ndf = pd.DataFrame(data)\n\n# Identify columns with missing values\ncolumns_with_missing_values = df.columns[df.isnull().any()]\n\n# Replace missing values with mean value of the column\nfor col in columns_with_missing_values:\n    mean_val = df[col].mean()\n    df[col].fillna(mean_val, inplace=True)\n\n# Delete duplicate entries from the data frame\ndf.drop_duplicates(inplace=True)\n\nprint(df)\n",
      "metadata": {
        "trusted": true
      },
      "outputs": [
        {
          "name": "stderr",
          "text": "<ipython-input-6-861bb89698a4>:15: FutureWarning: A value is trying to be set on a copy of a DataFrame or Series through chained assignment using an inplace method.\nThe behavior will change in pandas 3.0. This inplace method will never work because the intermediate object on which we are setting values always behaves as a copy.\n\nFor example, when doing 'df[col].method(value, inplace=True)', try using 'df.method({col: value}, inplace=True)' or df[col] = df[col].method(value) instead, to perform the operation inplace on the original object.\n\n\n  df[col].fillna(mean_val, inplace=True)\n",
          "output_type": "stream"
        },
        {
          "name": "stdout",
          "text": "     A    B  C\n0  1.0  3.5  1\n1  2.0  2.0  2\n2  3.0  3.0  3\n3  4.0  4.0  4\n4  5.0  5.0  5\n",
          "output_type": "stream"
        }
      ],
      "execution_count": 6
    },
    {
      "cell_type": "code",
      "source": "import pandas as pd\n\n# Create a sample data frame\ndata = {'A': [1, 2, 3, 4, 5],\n        'B': [2, 4, 6, 8, 10],\n        'C': [3, 6, 9, 12, 15],\n        'D': [4, 8, 12, 16, 20],\n        'Target': [5, 10, 15, 20, 25]}\ndf = pd.DataFrame(data)\n\n# Calculate the correlation matrix\ncorrelation_matrix = df.corr()\n\n# Get the top 5 attributes with highest correlation with the target attribute\ntop_correlated_attributes = correlation_matrix['Target'].abs().sort_values(ascending=False)[1:6]\n\nprint(top_correlated_attributes)",
      "metadata": {
        "trusted": true
      },
      "outputs": [
        {
          "name": "stdout",
          "text": "B         1.0\nC         1.0\nD         1.0\nTarget    1.0\nName: Target, dtype: float64\n",
          "output_type": "stream"
        }
      ],
      "execution_count": 7
    },
    {
      "cell_type": "code",
      "source": "import pandas as pd\n\n# Create a sample data frame\ndata = {'A': ['apple', 'banana', 'apple', 'orange', 'banana', 'apple'],\n        'B': [1, 2, 3, 4, 5, 6]}\ndf = pd.DataFrame(data)\n\n# Count the number of entries with each unique value of attribute 'A'\nvalue_counts = df['A'].value_counts()\n\nprint(value_counts)",
      "metadata": {
        "trusted": true
      },
      "outputs": [
        {
          "name": "stdout",
          "text": "A\napple     3\nbanana    2\norange    1\nName: count, dtype: int64\n",
          "output_type": "stream"
        }
      ],
      "execution_count": 8
    },
    {
      "cell_type": "code",
      "source": "import pandas as pd\nimport seaborn as sns\nimport matplotlib.pyplot as plt\n\n# Create a sample data frame\ndata = {'Source': [1, 2, 3, 4, 5, 1, 2, 3, 4, 5],\n        'Target': [10, 20, 30, 40, 50, 15, 25, 35, 45, 55]}\ndf = pd.DataFrame(data)\n\n# Create a box plot using Seaborn\nsns.boxplot(x='Source', y='Target', data=df)\nplt.show()\n",
      "metadata": {
        "trusted": true
      },
      "outputs": [
        {
          "output_type": "display_data",
          "data": {
            "text/plain": "<Figure size 640x480 with 1 Axes>",
            "image/png": "[encoded data removed]"
          },
          "metadata": {}
        }
      ],
      "execution_count": 9
    },
    {
      "cell_type": "code",
      "source": "import pandas as pd\nimport seaborn as sns\nimport matplotlib.pyplot as plt\n\n# Create a sample data frame\ndata = {'Source': [1, 2, 3, 4, 5],\n        'Target': [10, 20, 30, 40, 50]}\ndf = pd.DataFrame(data)\n\n# Create a regression plot using Seaborn\nsns.regplot(x='Source', y='Target', data=df)\nplt.show()\n\n",
      "metadata": {
        "trusted": true
      },
      "outputs": [
        {
          "output_type": "display_data",
          "data": {
            "text/plain": "<Figure size 640x480 with 1 Axes>",
            "image/png": "[encoded data removed]"
          },
          "metadata": {}
        }
      ],
      "execution_count": 10
    },
    {
      "cell_type": "code",
      "source": "import pandas as pd\nfrom sklearn.linear_model import LinearRegression\nfrom sklearn.metrics import r2_score, mean_squared_error\nfrom sklearn.model_selection import train_test_split\n\n# Create a sample data frame\ndata = {'Source': [1, 2, 3, 4, 5],\n        'Target': [10, 20, 30, 40, 50]}\ndf = pd.DataFrame(data)\n\n# Split data into X (source) and y (target)\nX = df[['Source']]\ny = df['Target']\n\n# Split data into training and testing sets\nX_train, X_test, y_train, y_test = train_test_split(X, y, test_size=0.2, random_state=42)\n\n# Fit a linear regression model\nmodel = LinearRegression()\nmodel.fit(X_train, y_train)\n\n# Make predictions\ny_pred = model.predict(X_test)\n\n# Calculate R^2 value\nr2 = r2_score(y_test, y_pred)\n\n# Calculate Mean Squared Error (MSE)\nmse = mean_squared_error(y_test, y_pred)\n\nprint(\"R^2 value:\", r2)\nprint(\"Mean Squared Error:\", mse)",
      "metadata": {
        "trusted": true
      },
      "outputs": [
        {
          "name": "stderr",
          "text": "/lib/python3.12/site-packages/sklearn/metrics/_regression.py:1187: UndefinedMetricWarning: R^2 score is not well-defined with less than two samples.\n  warnings.warn(msg, UndefinedMetricWarning)\n",
          "output_type": "stream"
        },
        {
          "name": "stdout",
          "text": "R^2 value: nan\nMean Squared Error: 5.048709793414476e-29\n",
          "output_type": "stream"
        }
      ],
      "execution_count": 11
    },
    {
      "cell_type": "code",
      "source": "import pandas as pd\nfrom sklearn.linear_model import LinearRegression\nfrom sklearn.metrics import r2_score, mean_squared_error\nfrom sklearn.model_selection import train_test_split\n\n# Create a sample data frame\ndata = {'Source1': [1, 2, 3, 4, 5],\n        'Source2': [2, 4, 6, 8, 10],\n        'Target': [10, 20, 30, 40, 50]}\ndf = pd.DataFrame(data)\n\n# Split data into X (source variables) and y (target)\nX = df[['Source1', 'Source2']]\ny = df['Target']\n\n# Split data into training and testing sets\nX_train, X_test, y_train, y_test = train_test_split(X, y, test_size=0.2, random_state=42)\n\n# Fit a linear regression model\nmodel = LinearRegression()\nmodel.fit(X_train, y_train)\n\n# Make predictions\ny_pred = model.predict(X_test)\n\n# Calculate R^2 value\nr2 = r2_score(y_test, y_pred)\n\n# Calculate Mean Squared Error (MSE)\nmse = mean_squared_error(y_test, y_pred)\n\nprint(\"R^2 value:\", r2)\nprint(\"Mean Squared Error:\", mse)",
      "metadata": {
        "trusted": true
      },
      "outputs": [
        {
          "name": "stderr",
          "text": "/lib/python3.12/site-packages/sklearn/metrics/_regression.py:1187: UndefinedMetricWarning: R^2 score is not well-defined with less than two samples.\n  warnings.warn(msg, UndefinedMetricWarning)\n",
          "output_type": "stream"
        },
        {
          "name": "stdout",
          "text": "R^2 value: nan\nMean Squared Error: 5.048709793414476e-29\n",
          "output_type": "stream"
        }
      ],
      "execution_count": 12
    },
    {
      "cell_type": "code",
      "source": "import pandas as pd\nfrom sklearn.pipeline import Pipeline\nfrom sklearn.preprocessing import StandardScaler, PolynomialFeatures\nfrom sklearn.linear_model import LinearRegression\nfrom sklearn.metrics import r2_score, mean_squared_error\nfrom sklearn.model_selection import train_test_split\n\n# Create a sample data frame\ndata = {'Source1': [1, 2, 3, 4, 5],\n        'Source2': [2, 4, 6, 8, 10],\n        'Target': [10, 20, 30, 40, 50]}\ndf = pd.DataFrame(data)\n\n# Split data into X (source variables) and y (target)\nX = df[['Source1', 'Source2']]\ny = df['Target']\n\n# Split data into training and testing sets\nX_train, X_test, y_train, y_test = train_test_split(X, y, test_size=0.2, random_state=42)\n\n# Create a pipeline with standard scalar, polynomial features, and linear regression model\npipeline = Pipeline([\n    ('scaler', StandardScaler()),\n    ('poly_features', PolynomialFeatures(degree=2)),\n    ('linear_reg', LinearRegression())\n])\n\n# Fit the pipeline on the target variable using the source attributes\npipeline.fit(X_train, y_train)\n\n# Make predictions\ny_pred = pipeline.predict(X_test)\n\n# Evaluate the R^2 value\nr2 = r2_score(y_test, y_pred)\n\n# Evaluate the Mean Squared Error (MSE)\nmse = mean_squared_error(y_test, y_pred)\n\nprint(\"R^2 value:\", r2)\nprint(\"Mean Squared Error:\", mse)",
      "metadata": {
        "trusted": true
      },
      "outputs": [
        {
          "name": "stderr",
          "text": "/lib/python3.12/site-packages/sklearn/metrics/_regression.py:1187: UndefinedMetricWarning: R^2 score is not well-defined with less than two samples.\n  warnings.warn(msg, UndefinedMetricWarning)\n",
          "output_type": "stream"
        },
        {
          "name": "stdout",
          "text": "R^2 value: nan\nMean Squared Error: 0.0\n",
          "output_type": "stream"
        }
      ],
      "execution_count": 13
    },
    {
      "cell_type": "markdown",
      "source": "## Authors\n",
      "metadata": {}
    },
    {
      "cell_type": "code",
      "source": "import pandas as pd\nfrom sklearn.model_selection import train_test_split\nfrom sklearn.linear_model import Ridge\nfrom sklearn.metrics import mean_squared_error, r2_score\n\n# Create a sample data frame\ndata = {'Source1': [1, 2, 3, 4, 5],\n        'Source2': [2, 4, 6, 8, 10],\n        'Target': [10, 20, 30, 40, 50]}\ndf = pd.DataFrame(data)\n\n# Split data into X (source variables) and y (target)\nX = df[['Source1', 'Source2']]\ny = df['Target']\n\n# Split data into training and testing sets\nX_train, X_test, y_train, y_test = train_test_split(X, y, test_size=0.2, random_state=42)\n\n# Create and fit a Ridge regression model with regularization parameter set to 0.1\nridge_model = Ridge(alpha=0.1)\nridge_model.fit(X_train, y_train)\n\n# Make predictions on the testing data\ny_pred = ridge_model.predict(X_test)\n\n# Calculate MSE and R^2 values\nmse = mean_squared_error(y_test, y_pred)\nr2 = r2_score(y_test, y_pred)\n\nprint(\"Mean Squared Error (MSE):\", mse)\nprint(\"R^2 value:\", r2)",
      "metadata": {
        "trusted": true
      },
      "outputs": [
        {
          "name": "stderr",
          "text": "/lib/python3.12/site-packages/sklearn/metrics/_regression.py:1187: UndefinedMetricWarning: R^2 score is not well-defined with less than two samples.\n  warnings.warn(msg, UndefinedMetricWarning)\n",
          "output_type": "stream"
        },
        {
          "name": "stdout",
          "text": "Mean Squared Error (MSE): 0.0008126075079731646\nR^2 value: nan\n",
          "output_type": "stream"
        }
      ],
      "execution_count": 14
    },
    {
      "cell_type": "code",
      "source": "import pandas as pd\nfrom sklearn.model_selection import train_test_split\nfrom sklearn.preprocessing import PolynomialFeatures\nfrom sklearn.linear_model import Ridge\nfrom sklearn.metrics import mean_squared_error, r2_score\n\n# Create a sample data frame\ndata = {'Source1': [1, 2, 3, 4, 5],\n        'Source2': [2, 4, 6, 8, 10],\n        'Target': [10, 20, 30, 40, 50]}\ndf = pd.DataFrame(data)\n\n# Split data into X (source variables) and y (target)\nX = df[['Source1', 'Source2']]\ny = df['Target']\n\n# Split data into training and testing sets\nX_train, X_test, y_train, y_test = train_test_split(X, y, test_size=0.2, random_state=42)\n\n# Apply second degree polynomial scaling to the training and testing data\npoly = PolynomialFeatures(degree=2)\nX_train_poly = poly.fit_transform(X_train)\nX_test_poly = poly.transform(X_test)\n\n# Create and fit a Ridge regression model with regularization parameter set to 0.1\nridge_model = Ridge(alpha=0.1)\nridge_model.fit(X_train_poly, y_train)\n\n# Make predictions on the testing data\ny_pred = ridge_model.predict(X_test_poly)\n\n# Calculate MSE and R^2 values\nmse = mean_squared_error(y_test, y_pred)\nr2 = r2_score(y_test, y_pred)\n\nprint(\"Mean Squared Error (MSE):\", mse)\nprint(\"R^2 value:\", r2)",
      "metadata": {
        "trusted": true
      },
      "outputs": [
        {
          "name": "stderr",
          "text": "/lib/python3.12/site-packages/sklearn/metrics/_regression.py:1187: UndefinedMetricWarning: R^2 score is not well-defined with less than two samples.\n  warnings.warn(msg, UndefinedMetricWarning)\n",
          "output_type": "stream"
        },
        {
          "name": "stdout",
          "text": "Mean Squared Error (MSE): 0.00977620983621795\nR^2 value: nan\n",
          "output_type": "stream"
        }
      ],
      "execution_count": 15
    },
    {
      "cell_type": "code",
      "source": "import pandas as pd\nfrom sklearn.model_selection import train_test_split\nfrom sklearn.preprocessing import PolynomialFeatures\nfrom sklearn.linear_model import Ridge\nfrom sklearn.metrics import mean_squared_error, r2_score\n\n# Create a sample data frame\ndata = {'Source1': [1, 2, 3, 4, 5],\n        'Source2': [2, 4, 6, 8, 10],\n        'Target': [10, 20, 30, 40, 50]}\ndf = pd.DataFrame(data)\n\n# Split data into X (source variables) and y (target)\nX = df[['Source1', 'Source2']]\ny = df['Target']\n\n# Split data into training and testing sets\nX_train, X_test, y_train, y_test = train_test_split(X, y, test_size=0.2, random_state=42)\n\n# Apply second degree polynomial scaling to the training and testing data\npoly = PolynomialFeatures(degree=2)\nX_train_poly = poly.fit_transform(X_train)\nX_test_poly = poly.transform(X_test)\n\n# Create and fit a Ridge regression model with regularization parameter set to 0.1\nridge_model = Ridge(alpha=0.1)\nridge_model.fit(X_train_poly, y_train)\n\n# Make predictions on the testing data\ny_pred = ridge_model.predict(X_test_poly)\n\n# Calculate MSE and R^2 values\nmse = mean_squared_error(y_test, y_pred)\nr2 = r2_score(y_test, y_pred)\n\nprint(\"Mean Squared Error (MSE):\", mse)\nprint(\"R^2 value:\", r2)",
      "metadata": {
        "trusted": true
      },
      "outputs": [
        {
          "name": "stderr",
          "text": "/lib/python3.12/site-packages/sklearn/metrics/_regression.py:1187: UndefinedMetricWarning: R^2 score is not well-defined with less than two samples.\n  warnings.warn(msg, UndefinedMetricWarning)\n",
          "output_type": "stream"
        },
        {
          "name": "stdout",
          "text": "Mean Squared Error (MSE): 0.00977620983621795\nR^2 value: nan\n",
          "output_type": "stream"
        }
      ],
      "execution_count": 16
    },
    {
      "cell_type": "code",
      "source": "\n\n\nimport pandas as pd\nfrom sklearn.model_selection import train_test_split\nfrom sklearn.preprocessing import PolynomialFeatures\nfrom sklearn.linear_model import Ridge\nfrom sklearn.metrics import mean_squared_error, r2_score\n\n# Create a sample data frame\ndata = {'Source1': [1, 2, 3, 4, 5],\n        'Source2': [2, 4, 6, 8, 10],\n        'Target': [10, 20, 30, 40, 50]}\ndf = pd.DataFrame(data)\n\n# Split data into X (source variables) and y (target)\nX = df[['Source1', 'Source2']]\ny = df['Target']\n\n# Split data into training and testing sets\nX_train, X_test, y_train, y_test = train_test_split(X, y, test_size=0.2, random_state=42)\n\n# Apply second degree polynomial scaling to the training and testing data\npoly = PolynomialFeatures(degree=2)\nX_train_poly = poly.fit_transform(X_train)\nX_test_poly = poly.transform(X_test)\n\n# Create and fit a Ridge regression model with regularization parameter set to 0.1\nridge_model = Ridge(alpha=0.1)\nridge_model.fit(X_train_poly, y_train)\n\n# Make predictions on the testing data\ny_pred = ridge_model.predict(X_test_poly)\n\n# Calculate MSE and R^2 values\nmse = mean_squared_error(y_test, y_pred)\nr2 = r2_score(y_test, y_pred)\n\nprint(\"Mean Squared Error (MSE):\", mse)\nprint(\"R^2 value:\", r2)",
      "metadata": {
        "trusted": true
      },
      "outputs": [
        {
          "name": "stderr",
          "text": "/lib/python3.12/site-packages/sklearn/metrics/_regression.py:1187: UndefinedMetricWarning: R^2 score is not well-defined with less than two samples.\n  warnings.warn(msg, UndefinedMetricWarning)\n",
          "output_type": "stream"
        },
        {
          "name": "stdout",
          "text": "Mean Squared Error (MSE): 0.00977620983621795\nR^2 value: nan\n",
          "output_type": "stream"
        }
      ],
      "execution_count": 17
    },
    {
      "cell_type": "markdown",
      "source": "[Abhishek Gagneja](https://www.linkedin.com/in/abhishek-gagneja-23051987/)\n",
      "metadata": {}
    },
    {
      "cell_type": "code",
      "source": "import pandas as pd\nfrom sklearn.model_selection import train_test_split, GridSearchCV\nfrom sklearn.preprocessing import PolynomialFeatures\nfrom sklearn.linear_model import Ridge\nfrom sklearn.metrics import mean_squared_error, r2_score\n\n# Create a sample data frame\ndata = {'Source1': [1, 2, 3, 4, 5],\n        'Source2': [2, 4, 6, 8, 10],\n        'Target': [10, 20, 30, 40, 50]}\ndf = pd.DataFrame(data)\n\n# Split data into X (source variables) and y (target)\nX = df[['Source1', 'Source2']]\ny = df['Target']\n\n# Split data into training and testing sets\nX_train, X_test, y_train, y_test = train_test_split(X, y, test_size=0.2, random_state=42)\n\n# Apply second degree polynomial scaling to the training and testing data\npoly = PolynomialFeatures(degree=2)\nX_train_poly = poly.fit_transform(X_train)\nX_test_poly = poly.transform(X_test)\n\n# Create a Ridge regression model\nridge = Ridge()\nparameters = {'alpha': [0.1, 1, 10]}  # Set of values for the regularization parameter alpha\n\n# Perform Grid Search with cross-validation (reduce the number of folds to 3)\nridge_grid = GridSearchCV(ridge, parameters, cv=3)  # Reduced to 3-fold cross-validation\nridge_grid.fit(X_train_poly, y_train)\n\n# Make predictions on the testing data\ny_pred = ridge_grid.predict(X_test_poly)\n\n# Calculate MSE and R^2 values\nmse = mean_squared_error(y_test, y_pred)\nr2 = r2_score(y_test, y_pred)\n\nprint(\"Mean Squared Error (MSE):\", mse)\nprint(\"R^2 value:\", r2)\n",
      "metadata": {
        "trusted": true
      },
      "outputs": [
        {
          "name": "stderr",
          "text": "/lib/python3.12/site-packages/sklearn/metrics/_regression.py:1187: UndefinedMetricWarning: R^2 score is not well-defined with less than two samples.\n  warnings.warn(msg, UndefinedMetricWarning)\n/lib/python3.12/site-packages/sklearn/metrics/_regression.py:1187: UndefinedMetricWarning: R^2 score is not well-defined with less than two samples.\n  warnings.warn(msg, UndefinedMetricWarning)\n/lib/python3.12/site-packages/sklearn/metrics/_regression.py:1187: UndefinedMetricWarning: R^2 score is not well-defined with less than two samples.\n  warnings.warn(msg, UndefinedMetricWarning)\n/lib/python3.12/site-packages/sklearn/metrics/_regression.py:1187: UndefinedMetricWarning: R^2 score is not well-defined with less than two samples.\n  warnings.warn(msg, UndefinedMetricWarning)\n/lib/python3.12/site-packages/sklearn/metrics/_regression.py:1187: UndefinedMetricWarning: R^2 score is not well-defined with less than two samples.\n  warnings.warn(msg, UndefinedMetricWarning)\n/lib/python3.12/site-packages/sklearn/metrics/_regression.py:1187: UndefinedMetricWarning: R^2 score is not well-defined with less than two samples.\n  warnings.warn(msg, UndefinedMetricWarning)\n/lib/python3.12/site-packages/sklearn/model_selection/_search.py:1051: UserWarning: One or more of the test scores are non-finite: [nan nan nan]\n  warnings.warn(\n/lib/python3.12/site-packages/sklearn/metrics/_regression.py:1187: UndefinedMetricWarning: R^2 score is not well-defined with less than two samples.\n  warnings.warn(msg, UndefinedMetricWarning)\n",
          "output_type": "stream"
        },
        {
          "name": "stdout",
          "text": "Mean Squared Error (MSE): 0.00977620983621795\nR^2 value: nan\n",
          "output_type": "stream"
        }
      ],
      "execution_count": 19
    },
    {
      "cell_type": "markdown",
      "source": "## Change Log\n",
      "metadata": {}
    },
    {
      "cell_type": "markdown",
      "source": "|Date (YYYY-MM-DD)|Version|Changed By|Change Description|\n|-|-|-|-|\n|2023-12-10|0.1|Abhishek Gagneja|Initial Draft created|\n",
      "metadata": {}
    },
    {
      "cell_type": "markdown",
      "source": "Copyright © 2023 IBM Corporation. All rights reserved.\n",
      "metadata": {}
    }
  ]
}